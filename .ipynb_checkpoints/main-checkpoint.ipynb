{
 "cells": [
  {
   "cell_type": "markdown",
   "id": "35dbb950",
   "metadata": {},
   "source": [
    "os= operating system\n",
    "shutil= shell utilities"
   ]
  },
  {
   "cell_type": "code",
   "execution_count": 4,
   "id": "e2d9e978",
   "metadata": {},
   "outputs": [],
   "source": [
    "import os, shutil"
   ]
  },
  {
   "cell_type": "code",
   "execution_count": 15,
   "id": "364b7247",
   "metadata": {},
   "outputs": [],
   "source": [
    "path=r\"D:/assets\""
   ]
  },
  {
   "cell_type": "code",
   "execution_count": 21,
   "id": "7a12cc1f",
   "metadata": {},
   "outputs": [],
   "source": [
    "files = os.listdir(path)"
   ]
  },
  {
   "cell_type": "code",
   "execution_count": 16,
   "id": "017e6a4f",
   "metadata": {},
   "outputs": [
    {
     "name": "stdout",
     "output_type": "stream",
     "text": [
      "D:/assets/csv files\n",
      "D:/assets/image files\n",
      "D:/assets/text files\n"
     ]
    }
   ],
   "source": [
    "folder_names=['/csv files','/image files','/text files']\n",
    "for loop in range(0,3):\n",
    "    if not os.path.exists(path+folder_names[loop]):\n",
    "        print(path+folder_names[loop])\n",
    "        os.makedirs(path+folder_names[loop])"
   ]
  },
  {
   "cell_type": "code",
   "execution_count": 31,
   "id": "afc20a82",
   "metadata": {},
   "outputs": [],
   "source": [
    "for file_name in files:\n",
    "    if \".txt\" in file_name and not os.path.exists(path + \"/text files/\" + file_name):\n",
    "        shutil.move(path + \"/\" + file_name, path + \"/text files/\")\n",
    "    elif(\".png\" in file_name or \".jpg\" in file_name) and not os.path.exists(path +\"/image files/\" + file_name):\n",
    "        shutil.move(path + \"/\"+ file_name, path + \"/image files\")    "
   ]
  }
 ],
 "metadata": {
  "kernelspec": {
   "display_name": "Python 3 (ipykernel)",
   "language": "python",
   "name": "python3"
  },
  "language_info": {
   "codemirror_mode": {
    "name": "ipython",
    "version": 3
   },
   "file_extension": ".py",
   "mimetype": "text/x-python",
   "name": "python",
   "nbconvert_exporter": "python",
   "pygments_lexer": "ipython3",
   "version": "3.11.5"
  }
 },
 "nbformat": 4,
 "nbformat_minor": 5
}
